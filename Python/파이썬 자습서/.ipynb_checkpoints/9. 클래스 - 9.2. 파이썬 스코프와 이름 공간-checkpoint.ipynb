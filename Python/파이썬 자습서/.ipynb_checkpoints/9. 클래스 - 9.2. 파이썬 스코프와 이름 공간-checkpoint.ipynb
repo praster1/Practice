{
 "cells": [
  {
   "cell_type": "markdown",
   "metadata": {},
   "source": [
    "## 9.2.1. 스코프와 이름 공간 예"
   ]
  },
  {
   "cell_type": "code",
   "execution_count": 2,
   "metadata": {},
   "outputs": [
    {
     "name": "stdout",
     "output_type": "stream",
     "text": [
      "After local assignment: test spam\n",
      "After nonlocal assignment: nonlocal spam\n",
      "After global assignment: nonlocal spam\n",
      "in global scope: global spam\n"
     ]
    }
   ],
   "source": [
    "def scope_test():\n",
    "    def do_local():\n",
    "        spam = \"local spam\"\n",
    "    \n",
    "    def do_nonlocal():\n",
    "        nonlocal spam\n",
    "        spam = \"nonlocal spam\"\n",
    "    \n",
    "    def do_global():\n",
    "        global spam\n",
    "        spam = \"global spam\"\n",
    "        \n",
    "    spam = \"test spam\"\n",
    "    \n",
    "    do_local()\n",
    "    print(\"After local assignment:\", spam)\n",
    "    \n",
    "    do_nonlocal()\n",
    "    print(\"After nonlocal assignment:\", spam)\n",
    "    \n",
    "    do_global()\n",
    "    print(\"After global assignment:\", spam)\n",
    "    \n",
    "scope_test()\n",
    "print(\"in global scope:\", spam)"
   ]
  },
  {
   "cell_type": "code",
   "execution_count": null,
   "metadata": {},
   "outputs": [],
   "source": []
  }
 ],
 "metadata": {
  "kernelspec": {
   "display_name": "Python 3",
   "language": "python",
   "name": "python3"
  },
  "language_info": {
   "codemirror_mode": {
    "name": "ipython",
    "version": 3
   },
   "file_extension": ".py",
   "mimetype": "text/x-python",
   "name": "python",
   "nbconvert_exporter": "python",
   "pygments_lexer": "ipython3",
   "version": "3.8.5"
  }
 },
 "nbformat": 4,
 "nbformat_minor": 4
}
