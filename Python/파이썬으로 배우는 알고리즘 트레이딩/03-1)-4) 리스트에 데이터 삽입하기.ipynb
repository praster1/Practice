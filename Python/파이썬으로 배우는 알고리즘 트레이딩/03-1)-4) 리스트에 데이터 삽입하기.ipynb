{
 "cells": [
  {
   "cell_type": "code",
   "execution_count": 1,
   "metadata": {},
   "outputs": [
    {
     "data": {
      "text/plain": [
       "['삼성전자',\n",
       " 'SK하이닉스',\n",
       " '현대차',\n",
       " '한국전력',\n",
       " '아모레퍼시픽',\n",
       " '제일모직',\n",
       " '삼성전자우',\n",
       " '삼성생명',\n",
       " 'NAVER',\n",
       " '현대모비스',\n",
       " 'SK텔레콤']"
      ]
     },
     "execution_count": 1,
     "metadata": {},
     "output_type": "execute_result"
    }
   ],
   "source": [
    "kospi_top10 = ['삼성전자', 'SK하이닉스', '현대차', '한국전력', '아모레퍼시픽', '제일모직', '삼성전자우', '삼성생명', 'NAVER', '현대모비스']\n",
    "kospi_top10.append('SK텔레콤')\n",
    "kospi_top10"
   ]
  },
  {
   "cell_type": "code",
   "execution_count": 2,
   "metadata": {},
   "outputs": [
    {
     "data": {
      "text/plain": [
       "['삼성전자',\n",
       " 'SK하이닉스',\n",
       " '현대차',\n",
       " '한국전력',\n",
       " '아모레퍼시픽',\n",
       " '제일모직',\n",
       " '삼성전자우',\n",
       " '삼성생명',\n",
       " 'NAVER',\n",
       " '현대모비스',\n",
       " 'SK텔레콤']"
      ]
     },
     "execution_count": 2,
     "metadata": {},
     "output_type": "execute_result"
    }
   ],
   "source": [
    "kospi_top11 = kospi_top10\n",
    "kospi_top11"
   ]
  },
  {
   "cell_type": "code",
   "execution_count": 3,
   "metadata": {},
   "outputs": [
    {
     "data": {
      "text/plain": [
       "['삼성전자',\n",
       " 'SK하이닉스',\n",
       " '현대차',\n",
       " 'SK 텔레콤',\n",
       " '한국전력',\n",
       " '아모레퍼시픽',\n",
       " '제일모직',\n",
       " '삼성전자우',\n",
       " '삼성생명',\n",
       " 'NAVER',\n",
       " '현대모비스']"
      ]
     },
     "execution_count": 3,
     "metadata": {},
     "output_type": "execute_result"
    }
   ],
   "source": [
    "kospi_top10 = ['삼성전자', 'SK하이닉스', '현대차', '한국전력', '아모레퍼시픽', '제일모직', '삼성전자우', '삼성생명', 'NAVER', '현대모비스']\n",
    "kospi_top10.insert(3, 'SK 텔레콤')\n",
    "kospi_top10"
   ]
  }
 ],
 "metadata": {
  "kernelspec": {
   "display_name": "Python 3",
   "language": "python",
   "name": "python3"
  },
  "language_info": {
   "codemirror_mode": {
    "name": "ipython",
    "version": 3
   },
   "file_extension": ".py",
   "mimetype": "text/x-python",
   "name": "python",
   "nbconvert_exporter": "python",
   "pygments_lexer": "ipython3",
   "version": "3.6.5"
  }
 },
 "nbformat": 4,
 "nbformat_minor": 2
}
