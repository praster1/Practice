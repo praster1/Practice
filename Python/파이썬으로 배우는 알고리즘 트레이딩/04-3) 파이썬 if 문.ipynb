{
 "cells": [
  {
   "cell_type": "code",
   "execution_count": 1,
   "metadata": {},
   "outputs": [
    {
     "name": "stdout",
     "output_type": "stream",
     "text": [
      "Buy 10\n"
     ]
    }
   ],
   "source": [
    "wikibooks_cur_price = 11000\n",
    "if wikibooks_cur_price >= 10000:\n",
    "     print(\"Buy 10\")"
   ]
  },
  {
   "cell_type": "code",
   "execution_count": 2,
   "metadata": {},
   "outputs": [
    {
     "name": "stdout",
     "output_type": "stream",
     "text": [
      "Sell 10\n"
     ]
    }
   ],
   "source": [
    "wikibooks_cur_price = 8000\n",
    "if wikibooks_cur_price < 9000:\n",
    "    print(\"Sell 10\")"
   ]
  },
  {
   "cell_type": "code",
   "execution_count": 3,
   "metadata": {},
   "outputs": [
    {
     "name": "stdout",
     "output_type": "stream",
     "text": [
      "Buy 5\n",
      "Buy 5\n",
      "Buy 5\n"
     ]
    }
   ],
   "source": [
    "wikibooks_cur_price = 11000\n",
    "if wikibooks_cur_price >= 10000:\n",
    "    print(\"Buy 5\")\n",
    "    print(\"Buy 5\")\n",
    "    print(\"Buy 5\")"
   ]
  }
 ],
 "metadata": {
  "kernelspec": {
   "display_name": "Python 3",
   "language": "python",
   "name": "python3"
  },
  "language_info": {
   "codemirror_mode": {
    "name": "ipython",
    "version": 3
   },
   "file_extension": ".py",
   "mimetype": "text/x-python",
   "name": "python",
   "nbconvert_exporter": "python",
   "pygments_lexer": "ipython3",
   "version": "3.6.5"
  }
 },
 "nbformat": 4,
 "nbformat_minor": 2
}
