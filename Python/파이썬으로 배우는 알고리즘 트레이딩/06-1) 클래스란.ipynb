{
 "cells": [
  {
   "cell_type": "code",
   "execution_count": 1,
   "metadata": {},
   "outputs": [
    {
     "name": "stdout",
     "output_type": "stream",
     "text": [
      "-------------------------\n",
      "Name: kimyuna\n",
      "E-mail: yunakim@naver.com\n",
      "Office Address: seoul\n",
      "-------------------------\n"
     ]
    }
   ],
   "source": [
    "name = \"kimyuna\"\n",
    "email = \"yunakim@naver.com\"\n",
    "addr = \"seoul\"\n",
    "\n",
    "def print_business_card(name, email, addr):\n",
    "    print(\"-------------------------\")\n",
    "    print(\"Name: %s\" % name)\n",
    "    print(\"E-mail: %s\" % email)\n",
    "    print(\"Office Address: %s\" % addr)\n",
    "    print(\"-------------------------\")\n",
    "    \n",
    "print_business_card(name, email, addr)"
   ]
  },
  {
   "cell_type": "code",
   "execution_count": 2,
   "metadata": {},
   "outputs": [
    {
     "name": "stdout",
     "output_type": "stream",
     "text": [
      "-------------------------\n",
      "Name: DusanBack\n",
      "E-mail: dusan.back@naver.com\n",
      "Office Address: Kyunggi\n",
      "-------------------------\n"
     ]
    }
   ],
   "source": [
    "name2 = \"DusanBack\"\n",
    "email2 = \"dusan.back@naver.com\"\n",
    "addr2 = \"Kyunggi\"\n",
    "\n",
    "print_business_card(name2, email2, addr2)"
   ]
  }
 ],
 "metadata": {
  "kernelspec": {
   "display_name": "Python 3",
   "language": "python",
   "name": "python3"
  },
  "language_info": {
   "codemirror_mode": {
    "name": "ipython",
    "version": 3
   },
   "file_extension": ".py",
   "mimetype": "text/x-python",
   "name": "python",
   "nbconvert_exporter": "python",
   "pygments_lexer": "ipython3",
   "version": "3.7.1"
  }
 },
 "nbformat": 4,
 "nbformat_minor": 2
}
