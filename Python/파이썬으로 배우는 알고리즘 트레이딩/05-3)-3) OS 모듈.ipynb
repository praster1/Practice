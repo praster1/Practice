{
 "cells": [
  {
   "cell_type": "code",
   "execution_count": 1,
   "metadata": {},
   "outputs": [
    {
     "data": {
      "text/plain": [
       "'C:\\\\Users\\\\prast\\\\Dropbox\\\\Github\\\\Practice_Python\\\\파이썬으로 배우는 알고리즘 트레이딩'"
      ]
     },
     "execution_count": 1,
     "metadata": {},
     "output_type": "execute_result"
    }
   ],
   "source": [
    "import os\n",
    "os.getcwd()"
   ]
  },
  {
   "cell_type": "code",
   "execution_count": 2,
   "metadata": {},
   "outputs": [
    {
     "data": {
      "text/plain": [
       "['.ipynb_checkpoints',\n",
       " '01-3)-1) 파이썬 IDLE 이용하기.ipynb',\n",
       " '02-3)-1) 문자열 인덱싱 및 슬라이싱.ipynb',\n",
       " '02-3)-2) 문자열 자르기.ipynb',\n",
       " '02-3)-3) 문자열 합치기.ipynb',\n",
       " '02-4) 기본 데이터 타입.ipynb',\n",
       " '03-1) 리스트.ipynb',\n",
       " '03-1)-1) 리스트 생성.ipynb',\n",
       " '03-1)-2) 리스트 인덱싱.ipynb',\n",
       " '03-1)-3) 리스트 슬라이싱.ipynb',\n",
       " '03-1)-4) 리스트에 데이터 삽입하기.ipynb',\n",
       " '03-1)-5) 리스트 데이터 삭제.ipynb',\n",
       " '03-2) 튜플.ipynb',\n",
       " '03-2)-1) 튜플 슬라이싱.ipynb',\n",
       " '03-3) 딕셔너리.ipynb',\n",
       " '03-3)-1) 딕셔너리에 데이터 삽입 및 삭제.ipynb',\n",
       " '03-3)-2) 딕셔너리로부터 키-값 구하기.ipynb',\n",
       " '04-1) Boolean.ipynb',\n",
       " '04-2) 논리 연산자.ipynb',\n",
       " '04-3) 파이썬 if 문.ipynb',\n",
       " '04-3)-1) if ~ else 문.ipynb',\n",
       " '04-3)-2) if ~ elif ~ else 문.ipynb',\n",
       " '04-4) for 문.ipynb',\n",
       " '04-4)-1) for와 range.ipynb',\n",
       " '04-4)-2) for와 리스트.ipynb',\n",
       " '04-4)-3) for와 튜플.ipynb',\n",
       " '04-4)-4) for와 딕셔너리.ipynb',\n",
       " '04-5) while 문.ipynb',\n",
       " '04-5)-1) while 문을 이용한 상한가 계산.ipynb',\n",
       " '04-5)-2) while과 if.ipynb',\n",
       " '04-5)-3) break와 continue.ipynb',\n",
       " '04-6) 중첩 루프.ipynb',\n",
       " '05-1) 함수.ipynb',\n",
       " '05-2) 반환값이 있는 함수.ipynb',\n",
       " '05-2)-1) 함수 호출 과정 이해하기.ipynb',\n",
       " '05-2)-2) 두 개의 값 반환하기.ipynb',\n",
       " '05-3)-1) 모듈 만들기.ipynb',\n",
       " '05-3)-1) 모듈 만들기2.ipynb',\n",
       " '05-3)-2) 파이썬에서 시간 다루기.ipynb',\n",
       " '05-3)-2) 파이썬에서 시간 다루기2.ipynb',\n",
       " '05-4)-3) OS 모듈.ipynb',\n",
       " 'stock.py',\n",
       " 'stock2.py',\n",
       " '__pycache__',\n",
       " '참고자료 링크.txt']"
      ]
     },
     "execution_count": 2,
     "metadata": {},
     "output_type": "execute_result"
    }
   ],
   "source": [
    "os.listdir()"
   ]
  },
  {
   "cell_type": "code",
   "execution_count": 4,
   "metadata": {},
   "outputs": [
    {
     "data": {
      "text/plain": [
       "['$RECYCLE.BIN',\n",
       " '$SysReset',\n",
       " \"'DPO6_3\",\n",
       " '@$MZgU',\n",
       " 'Config.Msi',\n",
       " 'Documents and Settings',\n",
       " 'hiberfil.sys',\n",
       " 'Intel',\n",
       " 'msdia80.dll',\n",
       " 'pagefile.sys',\n",
       " 'PerfLogs',\n",
       " 'Program Files',\n",
       " 'Program Files (x86)',\n",
       " 'ProgramData',\n",
       " 'Recovery',\n",
       " 'swapfile.sys',\n",
       " 'System Volume Information',\n",
       " 'Temp',\n",
       " 'Users',\n",
       " 'Windows']"
      ]
     },
     "execution_count": 4,
     "metadata": {},
     "output_type": "execute_result"
    }
   ],
   "source": [
    "os.listdir('c:/')"
   ]
  },
  {
   "cell_type": "code",
   "execution_count": 6,
   "metadata": {},
   "outputs": [],
   "source": [
    "files = os.listdir('c:/')"
   ]
  },
  {
   "cell_type": "code",
   "execution_count": 7,
   "metadata": {},
   "outputs": [
    {
     "data": {
      "text/plain": [
       "20"
      ]
     },
     "execution_count": 7,
     "metadata": {},
     "output_type": "execute_result"
    }
   ],
   "source": [
    "len(files)"
   ]
  },
  {
   "cell_type": "code",
   "execution_count": 8,
   "metadata": {},
   "outputs": [
    {
     "data": {
      "text/plain": [
       "list"
      ]
     },
     "execution_count": 8,
     "metadata": {},
     "output_type": "execute_result"
    }
   ],
   "source": [
    "type(files)"
   ]
  },
  {
   "cell_type": "code",
   "execution_count": 9,
   "metadata": {},
   "outputs": [],
   "source": [
    "for x in os.listdir('c:/'):\n",
    "    if x.endswith('exe'):\n",
    "        print(x)"
   ]
  }
 ],
 "metadata": {
  "kernelspec": {
   "display_name": "Python 3",
   "language": "python",
   "name": "python3"
  },
  "language_info": {
   "codemirror_mode": {
    "name": "ipython",
    "version": 3
   },
   "file_extension": ".py",
   "mimetype": "text/x-python",
   "name": "python",
   "nbconvert_exporter": "python",
   "pygments_lexer": "ipython3",
   "version": "3.7.1"
  }
 },
 "nbformat": 4,
 "nbformat_minor": 2
}
