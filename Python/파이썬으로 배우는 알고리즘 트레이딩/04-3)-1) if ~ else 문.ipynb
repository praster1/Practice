{
 "cells": [
  {
   "cell_type": "code",
   "execution_count": 2,
   "metadata": {},
   "outputs": [
    {
     "name": "stdout",
     "output_type": "stream",
     "text": [
      "Buy 10\n"
     ]
    }
   ],
   "source": [
    "wikibooks_cur_price = 11000\n",
    "if wikibooks_cur_price >= 10000:\n",
    "    print(\"Buy 10\")\n",
    "else:\n",
    "    print(\"Holding\")"
   ]
  },
  {
   "cell_type": "code",
   "execution_count": 3,
   "metadata": {},
   "outputs": [
    {
     "name": "stdout",
     "output_type": "stream",
     "text": [
      "Holding\n"
     ]
    }
   ],
   "source": [
    "wikibooks_cur_price = 9000\n",
    "if wikibooks_cur_price >= 10000:\n",
    "    print(\"Buy 10\")\n",
    "else:\n",
    "    print(\"Holding\")"
   ]
  },
  {
   "cell_type": "code",
   "execution_count": 4,
   "metadata": {},
   "outputs": [
    {
     "name": "stdout",
     "output_type": "stream",
     "text": [
      "3이 크다\n"
     ]
    }
   ],
   "source": [
    "if 3 > 1:\n",
    "    print(\"3이 크다\")\n",
    "else:\n",
    "    print(\"3이 작다\")"
   ]
  },
  {
   "cell_type": "code",
   "execution_count": 5,
   "metadata": {},
   "outputs": [
    {
     "name": "stdout",
     "output_type": "stream",
     "text": [
      "3이 크다\n"
     ]
    }
   ],
   "source": [
    "if 3 > 1:\n",
    "    print(\"3이 크다\")\n",
    "else:\n",
    "    print(\"3이 작다\")"
   ]
  }
 ],
 "metadata": {
  "kernelspec": {
   "display_name": "Python 3",
   "language": "python",
   "name": "python3"
  },
  "language_info": {
   "codemirror_mode": {
    "name": "ipython",
    "version": 3
   },
   "file_extension": ".py",
   "mimetype": "text/x-python",
   "name": "python",
   "nbconvert_exporter": "python",
   "pygments_lexer": "ipython3",
   "version": "3.6.5"
  }
 },
 "nbformat": 4,
 "nbformat_minor": 2
}
