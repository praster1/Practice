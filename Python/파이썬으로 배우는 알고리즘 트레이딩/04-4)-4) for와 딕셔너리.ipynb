{
 "cells": [
  {
   "cell_type": "code",
   "execution_count": 1,
   "metadata": {},
   "outputs": [
    {
     "name": "stdout",
     "output_type": "stream",
     "text": [
      "Naver: Buy 10\n",
      "Samsung: Buy 5\n",
      "SK Hynix: Buy 30\n"
     ]
    }
   ],
   "source": [
    "interest_stocks = {\"Naver\":10, \"Samsung\":5, \"SK Hynix\":30}\n",
    "for company, stock_num in interest_stocks.items():\n",
    "    print(\"%s: Buy %s\" % (company, stock_num))"
   ]
  },
  {
   "cell_type": "code",
   "execution_count": 2,
   "metadata": {},
   "outputs": [
    {
     "name": "stdout",
     "output_type": "stream",
     "text": [
      "Naver: Buy 10\n",
      "Samsung: Buy 5\n",
      "SK Hynix: Buy 30\n"
     ]
    }
   ],
   "source": [
    "interest_stocks = {\"Naver\":10, \"Samsung\":5, \"SK Hynix\":30}\n",
    "for company in interest_stocks.keys():\n",
    "    print(\"%s: Buy %s\" % (company, interest_stocks[company]))"
   ]
  }
 ],
 "metadata": {
  "kernelspec": {
   "display_name": "Python 3",
   "language": "python",
   "name": "python3"
  },
  "language_info": {
   "codemirror_mode": {
    "name": "ipython",
    "version": 3
   },
   "file_extension": ".py",
   "mimetype": "text/x-python",
   "name": "python",
   "nbconvert_exporter": "python",
   "pygments_lexer": "ipython3",
   "version": "3.6.5"
  }
 },
 "nbformat": 4,
 "nbformat_minor": 2
}
