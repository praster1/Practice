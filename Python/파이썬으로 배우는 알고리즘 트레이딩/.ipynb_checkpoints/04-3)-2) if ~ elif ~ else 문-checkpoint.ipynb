{
 "cells": [
  {
   "cell_type": "code",
   "execution_count": 3,
   "metadata": {},
   "outputs": [
    {
     "data": {
      "text/plain": [
       "10"
      ]
     },
     "execution_count": 3,
     "metadata": {},
     "output_type": "execute_result"
    }
   ],
   "source": [
    "price = 7000\n",
    "if price < 1000:\n",
    "    bid = 1\n",
    "elif price >= 1000 and price < 5000:\n",
    "    bid = 5\n",
    "elif price >= 5000 and price < 10000:\n",
    "    bid = 10\n",
    "elif price >= 10000 and price < 50000:\n",
    "    bid = 50\n",
    "elif price >= 50000 and price < 100000:\n",
    "    bid = 100\n",
    "elif price >= 100000 and price < 500000:\n",
    "    bid = 500\n",
    "elif price >= 500000:\n",
    "    bid = 1000\n",
    "\n",
    "bid"
   ]
  }
 ],
 "metadata": {
  "kernelspec": {
   "display_name": "Python 3",
   "language": "python",
   "name": "python3"
  },
  "language_info": {
   "codemirror_mode": {
    "name": "ipython",
    "version": 3
   },
   "file_extension": ".py",
   "mimetype": "text/x-python",
   "name": "python",
   "nbconvert_exporter": "python",
   "pygments_lexer": "ipython3",
   "version": "3.6.5"
  }
 },
 "nbformat": 4,
 "nbformat_minor": 2
}
