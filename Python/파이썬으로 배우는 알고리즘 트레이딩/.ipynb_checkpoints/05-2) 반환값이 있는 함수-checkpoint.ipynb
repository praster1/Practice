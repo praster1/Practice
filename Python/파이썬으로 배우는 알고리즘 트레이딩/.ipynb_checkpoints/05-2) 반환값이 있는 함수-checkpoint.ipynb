{
 "cells": [
  {
   "cell_type": "code",
   "execution_count": 4,
   "metadata": {},
   "outputs": [],
   "source": [
    "def cal_upper(price):\n",
    "    pass\n",
    "\n",
    "cal_upper(10000)"
   ]
  },
  {
   "cell_type": "code",
   "execution_count": 5,
   "metadata": {},
   "outputs": [],
   "source": [
    "def cal_upper(price):\n",
    "    increment = price * 0.3\n",
    "    \n",
    "def cal_upper(price):\n",
    "    increment = price * 0.3\n",
    "    upper_price = price + increment\n",
    "    \n",
    "def cal_upper(price):\n",
    "    increment = price * 0.3\n",
    "    upper_price = price + increment\n",
    "\n",
    "cal_upper(10000)"
   ]
  }
 ],
 "metadata": {
  "kernelspec": {
   "display_name": "Python 3",
   "language": "python",
   "name": "python3"
  },
  "language_info": {
   "codemirror_mode": {
    "name": "ipython",
    "version": 3
   },
   "file_extension": ".py",
   "mimetype": "text/x-python",
   "name": "python",
   "nbconvert_exporter": "python",
   "pygments_lexer": "ipython3",
   "version": "3.6.5"
  }
 },
 "nbformat": 4,
 "nbformat_minor": 2
}
