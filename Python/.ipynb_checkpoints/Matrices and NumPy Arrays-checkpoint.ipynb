{
 "cells": [
  {
   "cell_type": "code",
   "execution_count": 2,
   "metadata": {},
   "outputs": [
    {
     "data": {
      "text/plain": [
       "[[1, 4, 5], [-5, 8, 9]]"
      ]
     },
     "execution_count": 2,
     "metadata": {},
     "output_type": "execute_result"
    }
   ],
   "source": [
    "### Python Matrix\n",
    "A = [[1, 4, 5], \n",
    "    [-5, 8, 9]]\n",
    "\n",
    "A"
   ]
  },
  {
   "cell_type": "code",
   "execution_count": 4,
   "metadata": {
    "scrolled": true
   },
   "outputs": [
    {
     "name": "stdout",
     "output_type": "stream",
     "text": [
      "A = [[1, 4, 5, 12], [-5, 8, 9, 0], [-6, 7, 11, 19]]\n",
      "A[1] = [-5, 8, 9, 0]\n",
      "A[1][2] = 9\n",
      "A[0][-1] = 12\n",
      "3rd column = [5, 9, 11]\n"
     ]
    }
   ],
   "source": [
    "A = [[1, 4, 5, 12], \n",
    "    [-5, 8, 9, 0],\n",
    "    [-6, 7, 11, 19]]\n",
    "\n",
    "print(\"A =\", A) \n",
    "print(\"A[1] =\", A[1])      # 2nd row\n",
    "print(\"A[1][2] =\", A[1][2])   # 3rd element of 2nd row\n",
    "print(\"A[0][-1] =\", A[0][-1])   # Last element of 1st Row\n",
    "\n",
    "column = [];        # empty list\n",
    "for row in A:\n",
    "  column.append(row[2])   \n",
    "\n",
    "print(\"3rd column =\", column)"
   ]
  },
  {
   "cell_type": "markdown",
   "metadata": {},
   "source": [
    "# NumPy Array\n",
    "NumPy is a package for scientific computing which has support for a powerful N-dimensional array object. Before you can use NumPy, you need to install it. For more info,\n",
    "\n",
    "- Visit: How to install NumPy?\n",
    "\n",
    "-If you are on Windows, download and install anaconda distribution of Python. It comes with NumPy and other several packages related to data science and machine learning.\n",
    "\n",
    "Once NumPy is installed, you can import and use it."
   ]
  },
  {
   "cell_type": "code",
   "execution_count": 5,
   "metadata": {},
   "outputs": [
    {
     "name": "stdout",
     "output_type": "stream",
     "text": [
      "[1 2 3]\n",
      "<class 'numpy.ndarray'>\n"
     ]
    }
   ],
   "source": [
    "### NumPy Array\n",
    "import numpy as np\n",
    "a = np.array([1, 2, 3])\n",
    "print(a)               # Output: [1, 2, 3]\n",
    "print(type(a))         # Output: <class 'numpy.ndarray'>"
   ]
  },
  {
   "cell_type": "markdown",
   "metadata": {},
   "source": [
    "# How to create a NumPy array?\n",
    "There are several ways to create NumPy arrays."
   ]
  },
  {
   "cell_type": "code",
   "execution_count": 6,
   "metadata": {},
   "outputs": [
    {
     "name": "stdout",
     "output_type": "stream",
     "text": [
      "[[1 2 3]\n",
      " [3 4 5]]\n",
      "[[1.1 2.  3. ]\n",
      " [3.  4.  5. ]]\n",
      "[[1.+0.j 2.+0.j 3.+0.j]\n",
      " [3.+0.j 4.+0.j 5.+0.j]]\n"
     ]
    }
   ],
   "source": [
    "### 1. Array of integers, floats and complex Numbers\n",
    "\n",
    "import numpy as np\n",
    "\n",
    "A = np.array([[1, 2, 3], [3, 4, 5]])\n",
    "print(A)\n",
    "\n",
    "A = np.array([[1.1, 2, 3], [3, 4, 5]]) # Array of floats\n",
    "print(A)\n",
    "\n",
    "A = np.array([[1, 2, 3], [3, 4, 5]], dtype = complex) # Array of complex numbers\n",
    "print(A)"
   ]
  },
  {
   "cell_type": "code",
   "execution_count": 10,
   "metadata": {},
   "outputs": [
    {
     "name": "stdout",
     "output_type": "stream",
     "text": [
      "[[0. 0. 0.]\n",
      " [0. 0. 0.]]\n",
      "[[1 1 1 1 1]]\n"
     ]
    }
   ],
   "source": [
    "### 2. Array of zeros and ones\n",
    "import numpy as np\n",
    "\n",
    "zeors_array = np.zeros( (2, 3) )\n",
    "print(zeors_array)\n",
    "\n",
    "'''\n",
    " Output:\n",
    " [[0. 0. 0.]\n",
    "  [0. 0. 0.]]\n",
    "'''\n",
    "\n",
    "ones_array = np.ones( (1, 5), dtype=np.int32 ) # specifying dtype\n",
    "print(ones_array)      # Output: [[1 1 1 1 1]]"
   ]
  },
  {
   "cell_type": "code",
   "execution_count": 11,
   "metadata": {},
   "outputs": [
    {
     "name": "stdout",
     "output_type": "stream",
     "text": [
      "A = [0 1 2 3]\n",
      "B = [[ 0  1  2  3  4  5]\n",
      " [ 6  7  8  9 10 11]]\n"
     ]
    },
    {
     "data": {
      "text/plain": [
       "' \\nOutput:\\nA = [0 1 2 3]\\nB = [[ 0  1  2  3  4  5]\\n [ 6  7  8  9 10 11]]\\n'"
      ]
     },
     "execution_count": 11,
     "metadata": {},
     "output_type": "execute_result"
    }
   ],
   "source": [
    "### 3. Using arange() and shape()\n",
    "import numpy as np\n",
    "\n",
    "A = np.arange(4)\n",
    "print('A =', A)\n",
    "\n",
    "B = np.arange(12).reshape(2, 6)\n",
    "print('B =', B)\n",
    "\n",
    "''' \n",
    "Output:\n",
    "A = [0 1 2 3]\n",
    "B = [[ 0  1  2  3  4  5]\n",
    " [ 6  7  8  9 10 11]]\n",
    "'''"
   ]
  },
  {
   "cell_type": "markdown",
   "metadata": {},
   "source": [
    "# Matrix Operations\n",
    "Above, we gave you 3 examples: addition of two matrices, multiplication of two matrices and transpose of a matrix. We used nested lists before to write those programs. Let's see how we can do the same task using NumPy array."
   ]
  },
  {
   "cell_type": "code",
   "execution_count": 12,
   "metadata": {},
   "outputs": [
    {
     "name": "stdout",
     "output_type": "stream",
     "text": [
      "[[11  1]\n",
      " [ 8  0]]\n"
     ]
    },
    {
     "data": {
      "text/plain": [
       "' \\nOutput:\\n[[11  1]\\n [ 8  0]]\\n '"
      ]
     },
     "execution_count": 12,
     "metadata": {},
     "output_type": "execute_result"
    }
   ],
   "source": [
    "### Addition of Two Matrices\n",
    "import numpy as np\n",
    "\n",
    "A = np.array([[2, 4], [5, -6]])\n",
    "B = np.array([[9, -3], [3, 6]])\n",
    "C = A + B      # element wise addition\n",
    "print(C)\n",
    "\n",
    "''' \n",
    "Output:\n",
    "[[11  1]\n",
    " [ 8  0]]\n",
    " '''"
   ]
  },
  {
   "cell_type": "code",
   "execution_count": 14,
   "metadata": {},
   "outputs": [
    {
     "name": "stdout",
     "output_type": "stream",
     "text": [
      "[14 -6]\n"
     ]
    }
   ],
   "source": [
    "### Multiplication of Two Matrices\n",
    "import numpy as np\n",
    "\n",
    "A = np.array([[3, 6, 7], [5, -3, 0]])\n",
    "B = np.array([[1, 1], [2, 1], [3, -3]])\n",
    "C = a.dot(B)\n",
    "print(C)\n",
    "\n",
    "''' \n",
    "Output:\n",
    "[[ 36 -12]\n",
    " [ -1   2]]\n",
    "'''"
   ]
  },
  {
   "cell_type": "code",
   "execution_count": 15,
   "metadata": {
    "scrolled": true
   },
   "outputs": [
    {
     "name": "stdout",
     "output_type": "stream",
     "text": [
      "[[ 1  2  3]\n",
      " [ 1  1 -3]]\n"
     ]
    },
    {
     "data": {
      "text/plain": [
       "' \\nOutput:\\n[[ 1  2  3]\\n [ 1  1 -3]]\\n'"
      ]
     },
     "execution_count": 15,
     "metadata": {},
     "output_type": "execute_result"
    }
   ],
   "source": [
    "### Transpose of a Matrix\n",
    "import numpy as np\n",
    "\n",
    "A = np.array([[1, 1], [2, 1], [3, -3]])\n",
    "print(A.transpose())\n",
    "\n",
    "''' \n",
    "Output:\n",
    "[[ 1  2  3]\n",
    " [ 1  1 -3]]\n",
    "'''"
   ]
  },
  {
   "cell_type": "markdown",
   "metadata": {},
   "source": [
    "# Access matrix elements, rows and columns"
   ]
  },
  {
   "cell_type": "code",
   "execution_count": 17,
   "metadata": {},
   "outputs": [
    {
     "name": "stdout",
     "output_type": "stream",
     "text": [
      "A[0] = 2\n",
      "A[2] = 6\n",
      "A[-1] = 10\n"
     ]
    }
   ],
   "source": [
    "### Access matrix elements\n",
    "import numpy as np\n",
    "A = np.array([2, 4, 6, 8, 10])\n",
    "\n",
    "print(\"A[0] =\", A[0])     # First element     \n",
    "print(\"A[2] =\", A[2])     # Third element \n",
    "print(\"A[-1] =\", A[-1])   # Last element  "
   ]
  },
  {
   "cell_type": "code",
   "execution_count": 18,
   "metadata": {},
   "outputs": [
    {
     "name": "stdout",
     "output_type": "stream",
     "text": [
      "A[0] = 2\n",
      "A[2] = 6\n",
      "A[-1] = 10\n"
     ]
    }
   ],
   "source": [
    "import numpy as np\n",
    "A = np.array([2, 4, 6, 8, 10])\n",
    "\n",
    "print(\"A[0] =\", A[0])     # First element     \n",
    "print(\"A[2] =\", A[2])     # Third element \n",
    "print(\"A[-1] =\", A[-1])   # Last element  "
   ]
  },
  {
   "cell_type": "code",
   "execution_count": 19,
   "metadata": {},
   "outputs": [
    {
     "name": "stdout",
     "output_type": "stream",
     "text": [
      "A[0] = [ 1  4  5 12]\n",
      "A[2] = [-6  7 11 19]\n",
      "A[-1] = [-6  7 11 19]\n"
     ]
    }
   ],
   "source": [
    "# Access rows of a Matrix\n",
    "import numpy as np\n",
    "\n",
    "A = np.array([[1, 4, 5, 12], \n",
    "    [-5, 8, 9, 0],\n",
    "    [-6, 7, 11, 19]])\n",
    "\n",
    "print(\"A[0] =\", A[0]) # First Row\n",
    "print(\"A[2] =\", A[2]) # Third Row\n",
    "print(\"A[-1] =\", A[-1]) # Last Row (3rd row in this case)"
   ]
  },
  {
   "cell_type": "code",
   "execution_count": 20,
   "metadata": {},
   "outputs": [
    {
     "name": "stdout",
     "output_type": "stream",
     "text": [
      "A[:,0] = [ 1 -5 -6]\n",
      "A[:,3] = [12  0 19]\n",
      "A[:,-1] = [12  0 19]\n"
     ]
    }
   ],
   "source": [
    "# Access columns of a Matrix\n",
    "import numpy as np\n",
    "\n",
    "A = np.array([[1, 4, 5, 12], \n",
    "    [-5, 8, 9, 0],\n",
    "    [-6, 7, 11, 19]])\n",
    "\n",
    "print(\"A[:,0] =\",A[:,0]) # First Column\n",
    "print(\"A[:,3] =\", A[:,3]) # Fourth Column\n",
    "print(\"A[:,-1] =\", A[:,-1]) # Last Column (4th column in this case)"
   ]
  },
  {
   "cell_type": "markdown",
   "metadata": {},
   "source": [
    "# Slicing of a Matrix"
   ]
  },
  {
   "cell_type": "code",
   "execution_count": 21,
   "metadata": {},
   "outputs": [
    {
     "name": "stdout",
     "output_type": "stream",
     "text": [
      "[5 7 9]\n",
      "[1 3]\n",
      "[7 5]\n",
      "[1 3 5 7 9 7 5]\n",
      "[5 7 9 7 5 3 1]\n"
     ]
    }
   ],
   "source": [
    "import numpy as np\n",
    "letters = np.array([1, 3, 5, 7, 9, 7, 5])\n",
    "\n",
    "# 3rd to 5th elements\n",
    "print(letters[2:5])        # Output: [5, 7, 9]\n",
    "\n",
    "# 1st to 4th elements\n",
    "print(letters[:-5])        # Output: [1, 3]   \n",
    "\n",
    "# 6th to last elements\n",
    "print(letters[5:])         # Output:[7, 5]\n",
    "\n",
    "# 1st to last elements\n",
    "print(letters[:])          # Output:[1, 3, 5, 7, 9, 7, 5]\n",
    "\n",
    "# reversing a list\n",
    "print(letters[::-1])          # Output:[5, 7, 9, 7, 5, 3, 1]"
   ]
  },
  {
   "cell_type": "code",
   "execution_count": 22,
   "metadata": {},
   "outputs": [
    {
     "name": "stdout",
     "output_type": "stream",
     "text": [
      "[[ 1  4  5 12]\n",
      " [-5  8  9  0]]\n",
      "[[ 1  4  5 12 14]]\n",
      "[ 5  9 11]\n",
      "[[ 5 12 14]\n",
      " [ 9  0 17]\n",
      " [11 19 21]]\n"
     ]
    },
    {
     "data": {
      "text/plain": [
       "'Output:\\n[[ 5 12 14]\\n [ 9  0 17]\\n [11 19 21]]\\n'"
      ]
     },
     "execution_count": 22,
     "metadata": {},
     "output_type": "execute_result"
    }
   ],
   "source": [
    "import numpy as np\n",
    "\n",
    "A = np.array([[1, 4, 5, 12, 14], \n",
    "    [-5, 8, 9, 0, 17],\n",
    "    [-6, 7, 11, 19, 21]])\n",
    "\n",
    "print(A[:2, :4])  # two rows, four columns\n",
    "\n",
    "''' Output:\n",
    "[[ 1  4  5 12]\n",
    " [-5  8  9  0]]\n",
    "'''\n",
    "\n",
    "\n",
    "print(A[:1,])  # first row, all columns\n",
    "\n",
    "''' Output:\n",
    "[[ 1  4  5 12 14]]\n",
    "'''\n",
    "\n",
    "print(A[:,2])  # all rows, second column\n",
    "\n",
    "''' Output:\n",
    "[ 5  9 11]\n",
    "'''\n",
    "\n",
    "print(A[:, 2:5])  # all rows, third to fifth column\n",
    "\n",
    "'''Output:\n",
    "[[ 5 12 14]\n",
    " [ 9  0 17]\n",
    " [11 19 21]]\n",
    "'''"
   ]
  }
 ],
 "metadata": {
  "kernelspec": {
   "display_name": "Python 3",
   "language": "python",
   "name": "python3"
  },
  "language_info": {
   "codemirror_mode": {
    "name": "ipython",
    "version": 3
   },
   "file_extension": ".py",
   "mimetype": "text/x-python",
   "name": "python",
   "nbconvert_exporter": "python",
   "pygments_lexer": "ipython3",
   "version": "3.5.2"
  }
 },
 "nbformat": 4,
 "nbformat_minor": 2
}
