{
 "cells": [
  {
   "cell_type": "markdown",
   "metadata": {},
   "source": [
    "딥러닝 연구 및 개발을 위한 기반을 제공하는 Python 플랫폼 중 가장 많이 활용되는 라이브러리 두 가지를 꼽으면 TensorFlow와 Theano를 들 수 있다. 둘 다 매우 강력한 라이브러리이지만 딥러닝 모델을 만드는 데 직접 사용하기 어려울 수 있다. 여기에서는 Tensorflow와 Theano를 바탕으로 딥러닝 모델을 만들 수있는 깔끔하고 편리한 방법을 제공하는 Keras Python 라이브러리를 살펴 볼 것이다. 여기에서는 다음에 대해 이야기할 것이다.\n",
    "\n",
    "- Python에서의 Keras 라이브러리 정보\n",
    "- Theano 또는 TensorFlow를 위해 Keras를 구성하는 방법."
   ]
  },
  {
   "cell_type": "markdown",
   "metadata": {},
   "source": [
    "# Keras란 무엇인가?\n",
    "\n",
    "Keras는 Theano 또는 TensorFlow 위에서 실행할 수있는 딥러닝을 위한 Python 라이브러리이다. 가능한 한 빠르고 쉽게 딥러닝 모델을 개발할 수 있도록 개발되었다. Python 2.7 or 3.5 이상에서 실행되며 CPU 및 GPU에서 연산을 수행할 수 있도록 지원한다. Keras는 MIT 라이센스하에 배포되고 있으며, 다음과 같은 네 가지 원칙을 가지고, Google 엔지니어인 Françcois Chollet에 의해 개발/유지/관리되고 있다.\n",
    "\n",
    "- Modularity : 모델은 시퀀스 또는 그래프로만 이해할 수 있다. 딥러닝 모델의 모든 관심사는 임의로 결합 될 수 있는 각 개별 구성 요소들이다.\n",
    "- Minimalism : 라이브러리는 결과물을 얻을 수 있을 만큼 충분한 것을 제공하고, 불필요한 것은 제공하지 않으며, 가독성을 극대화한다.\n",
    "- Extensibility : 개발자가 새로운 아이디어를 시험하고 탐색 할 수 있도록 새로운 구성 요소를 임의로 추가하고 프레임 워크 내에서 사용하기 쉽다.\n",
    "- Python : 사용자 정의 파일 형식이 있는 별도의 모델 파일이 없다. 모든 것이 네이티브 Python이다."
   ]
  },
  {
   "cell_type": "markdown",
   "metadata": {},
   "source": [
    "# Keras를 설치하는 방법\n",
    "\n",
    "Keras는 이미 Python과 SciPy가 작동하는 환경이라면 설치가 비교적 간단하다. 또한 설치하기에 앞서 시스템에 Theano 또는 TensorFlow가 설치되어 있어야 한다.\n",
    "\n",
    "Keras는 다음과 같이 pip를 이용하여 쉽게 설치할 수 있다.\n",
    "- sudo pip install keras\n",
    "\n",
    "다음 스크립트로 Keras 버전을 확인할 수 있다.\n",
    "- python -c \"import keras; print(keras.__version__)\"\n",
    "\n",
    "이미 Keras가 설치되어있는 상황에서 최신 버전으로 업데이트하려면 pip 명령어를 다음과 같이 사용한다.\n",
    "- sudo pip install --upgrade keras"
   ]
  },
  {
   "cell_type": "markdown",
   "metadata": {},
   "source": [
    "# Theano와 Tensorflow로 Keras의 백엔드를 구성하기\n",
    "\n",
    "Keras는 가벼운 API로, 딥러닝에 필요한 수학 연산을 구현하는 대신 효율적인 수치 라이브러리를 백엔드에서 호출하는 방식을 바탕으로 일관된 인터페이스를 제공한다. Theano와 TensorFlow를 모두 설치했다고 가정하면 Keras에서 사용하기 위한 백엔드를 구성 할 수 있다. 가장 쉬운 방법은 홈 디렉토리에 Keras 구성 파일을 추가하거나 편집하는 것이다.\n",
    "\n",
    "- ~/.keras/keras.json\n",
    "\n",
    "이 keras.json은 다음과 같은 포맷으로 구성되어 있다.:\n",
    "\n",
    "{\n",
    "    \n",
    "    \"image_dim_ordering\": \"tf\",\n",
    "    \"epsilon\": 1e-07,\n",
    "    \"floatx\": \"float32\",\n",
    "    \"backend\": \"tensorflow\"\n",
    "\n",
    "}\n",
    "\n",
    "이 구성 파일에서 backend 속성을 Tensorflow(기본값)에서 Theano로 변경할 수 있다. (물론 그 반대로도 된다.) 다음에 Keras를 실행하면, 이 구성을 사용하게 된다. 명령 행에서 다음 스크립트를 사용하여 Keras가 현재 사용하고 있는 백엔드를 확인할 수 있다.\n",
    "\n",
    "- python -c \"from keras import backend; print(backend._BACKEND)\n",
    "\n",
    "만일 Tensorflow를 기본 구성으로 실행하면 다음과 같이 표시된다.\n",
    "\n",
    "- Using TensorFlow backend.\n",
    "- tensorflow\n",
    "\n",
    "다음과 같이 KERAS_BACKEND 환경 변수를 지정하여 명령 행에서 Keras가 사용할 백엔드를 지정할 수도 있다. 아래 명령어는 Theano로 변경하는 과정이다.\n",
    "\n",
    "- KERAS_BACKEND=theano python -c \"from keras import backend; print(backend._BACKEND)\"\n",
    "\n",
    "위 명령어를 실행하면 다음과 같이 출력된다.\n",
    "\n",
    "- Using Theano backend.\n",
    "- theano"
   ]
  },
  {
   "cell_type": "markdown",
   "metadata": {},
   "source": [
    "# Keras를 이용한 딥러닝 모델 설계\n",
    "\n",
    "Keras의 오로지 모델의 아이디어에 초점을 두고 있다. 모델의 주요 유형은, 레이어의 선형 스택인 Sequential이라고 불리는 '일련의 레이어'이다. Sequential을 만들고 계산을 수행 할 순서대로 레이어를 추가한다. 일단 이들이 만들어지면, 기본 프레임워크를 사용하여 모델에서 수행 할 계산을 최적화하는 모델을 컴파일한다. 여기서 손실 함수(loss function)와 사용할 최적화 알고리즘을 지정할 수 있다.\n",
    "\n",
    "일단 컴파일되면 모델은 데이터에 적합해야한다. 이 때 한 번에 하나의 데이터 묶음을 통째로 학습에 이용할 수도 있고, 배치 형태로 분할하여 수행할 수도 있다. 학습을 완료하면, 이 모델을 사용하여 새 데이터에 대한 예측을 수행 할 수 있다. Keras의 딥러닝 모델 구축은 다음과 같이 요약 할 수 있습니다.\n",
    "\n",
    "1. 모델을 정의한다. Sequential 모델을 만들고 구성된 레이어를 추가한다.\n",
    "\n",
    "2. 모델을 컴파일한다. 손실 함수(loss function) 및 최적화 알고리즘을 지정하고 모델에서 compile() 함수를 호출한다.\n",
    "\n",
    "3. 모델을 적합(fitting)한다. 모델에서 fit() 함수를 호출하여 데이터 샘플에 대한 모델을 학습시킨다.\n",
    "\n",
    "4. 예측한다. 모델에서 evaluate() 또는 predict()와 같은 함수를 호출하여, 기존 학습된 모델을 통해 새 데이터에 대한 예측을 한다."
   ]
  }
 ],
 "metadata": {
  "anaconda-cloud": {},
  "kernelspec": {
   "display_name": "Python [Root]",
   "language": "python",
   "name": "Python [Root]"
  },
  "language_info": {
   "codemirror_mode": {
    "name": "ipython",
    "version": 3
   },
   "file_extension": ".py",
   "mimetype": "text/x-python",
   "name": "python",
   "nbconvert_exporter": "python",
   "pygments_lexer": "ipython3",
   "version": "3.5.2"
  }
 },
 "nbformat": 4,
 "nbformat_minor": 0
}
