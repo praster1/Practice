{
 "cells": [
  {
   "cell_type": "markdown",
   "metadata": {},
   "source": [
    "Theano는 CPU 또는 GPU에서 실행할 수있는 빠른 수치 계산을 위한 Python 라이브러리이다. Python에서의 딥러닝을 위한 핵심 라이브러리로, 직접 딥러닝 모델을 만드는 데 사용할 수 있다. 여기에서는 다음에 대해 이야기할 것이다.\n",
    "\n",
    "- 파이썬에서의 Theano 라이브러리에 대해서.\n",
    "- 단순한 symbolic expression을 정의, 컴파일, 계산하는 방법.\n",
    "- Theano에 대해 더 자세히 알 수 있는 resource."
   ]
  },
  {
   "cell_type": "markdown",
   "metadata": {},
   "source": [
    "# Theano란 무엇인가?\n",
    "\n",
    "Theano는 BSD 라이센스하에 공개 된 오픈소스 프로젝트로, 캐나다 퀘벡에 있는 Montreal 대학의 LISA 그룹(오늘날의 MILA)에 의해 개발되었다. Theano은 그리스 수학자의 이름을 딴 것이다. Theano는 Python의 mathematical expression을 위한 컴파일러이다. NumPy를 사용한 효율적인 코딩이 가능하고, BLAS 및 네이티브 코드와 같은 효율적인 네이티브 라이브러리로 전환하여 CPU 또는 GPU에서 가능한 한 빨리 실행하도록 한다.\n",
    "\n",
    "Theano는 코드 최적화를 통해 하드웨어에서 최대한 많은 성능을 끌어낸다. Theano 표현식의 실제 구문은 종종 추상적이기도 한데, 이는 초보자에게는 약간의 진입장벽으로 와닿을 수 있다. 다시 말해서, 표현식은 추상적인 모습으로 정의되고, 컴파일되어 나중에 이것이 실제 계산에 이용된다.\n",
    "\n",
    "Theano는 특별히 딥러닝에 사용되는 대규모 신경망 알고리즘에 필요한 계산을 처리하도록 설계되었다. Tensorflow 등과 함께, 딥러닝 연구 및 개발을 위한 표준 라이브러리로 여겨지고 있다.\n",
    "\n",
    "다만, 2017년 9월 29일 부로 Theano의 개발이 중단되었다. 자세한 것은 아래 링크를 확인하도록 하자.\n",
    "\n",
    "https://groups.google.com/forum/m/#!topic/theano-users/7Poq8BZutbY\n",
    "\n",
    "그래도 꾸준히 사랑받아온 라이브러리인 만큼, 알아두는 것도 나쁘지 않을 것이다."
   ]
  },
  {
   "cell_type": "markdown",
   "metadata": {},
   "source": [
    "# Theano를 설치하는 방법\n",
    "\n",
    "Theano는 Windows, OS X 및 Linux 등 주요 운영체제에서 다룰 수 있다. Theano는 SciPy가 내장된 Python 2 or 3 환경을 지원한다. Anaconda4를 사용하여 컴퓨터에서 Python과 SciPy를 빠르게 설정하고 Docker 이미지를 사용하는 등의 방식으로 손쉽게 설치할 수도 있다. Python과 SciPy가 작동하는 환경에서 pip를 사용하여 Theano를 다음과 같이 설치할 수 있다.\n",
    "\n",
    "- sudo pip install Theano\n",
    "\n",
    "Theano가 이미 설치되어있는 상태에서 Theano의 새로운 버전이 릴리스되었을 경우, 다음과 같이 pip를 사용하여 Theano를 최신 버전으로 업데이트할 수 있다.\n",
    "\n",
    "- sudo pip install --upgrade --no-deps theano\n",
    "\n",
    "GitHub에서 직접 Theano의 최신 버전을 확인하고 사용하는 것이 좋다. 최첨단 API 변경 사항을 반영한 일부 wrapper 라이브러리의 경우 특히 이를 바로 사용하는 것이 필요할 수 있다. 이 때는 다음과 같이 GitHub에서 직접 Theano를 내려받아 설치할 수 있다.\n",
    "\n",
    "- sudo pip install --upgrade --no-deps git+git://github.com/Theano/Theano.git\n",
    "\n",
    "이제 CPU를 이용하여 Theano를 실행할 준비가 되었다. CPU 버전은 모델이 비교적 작을 때 적합하다. 다루고자 하는 모델이 커질수록 CPU만을 이용하는 것은 버겁게 느껴질 수 있다. Nvidia GPU를 사용하는 경우 Theano에서 GPU를 사용하도록 구성 할 수 있다. Theano 홈페이지에서 이에 대한 추가 문서 라이브러리를 확인하도록 하자."
   ]
  },
  {
   "cell_type": "markdown",
   "metadata": {},
   "source": [
    "# 간단한 Theano 실습\n",
    "\n",
    "다음 코드는, 간단하게 Theano를 맛볼 수 있는 스크립트이다.\n",
    "\n",
    "이 스크립트에서는 두 개의 symbolic floating-point scalar a와 b를 정의하였다. 이러한 변수를 이용하여 \"c = a + b\"라는 symbolic expression을 정의하였다. 그런 다음 이 symbolic expression을 나중에 사용할 수 있도록, Theano를 이용하여 컴파일한다. 마지막으로 컴파일 된 symbolic expression에 실제 값을 연결하고, 컴파일 된 Theano 코드를 사용하여 계산을 수행한다."
   ]
  },
  {
   "cell_type": "code",
   "execution_count": 3,
   "metadata": {
    "collapsed": false
   },
   "outputs": [
    {
     "name": "stdout",
     "output_type": "stream",
     "text": [
      "6.0\n"
     ]
    }
   ],
   "source": [
    "# Theano Library 실습\n",
    "import theano\n",
    "from theano import tensor\n",
    "\n",
    "# 두 개의 symbolic floating-point scalars 선언\n",
    "a = tensor.dscalar()\n",
    "b = tensor.dscalar()\n",
    "\n",
    "# Symbolic expression 생성\n",
    "c = a + b\n",
    "\n",
    "# Symbolic expression 컴파일\n",
    "f = theano.function([a,b], c)\n",
    "\n",
    "# a = 2.5, b = 3.5를 대입하여 계산 수행\n",
    "result = f(2.5, 3.5)\n",
    "print(result)"
   ]
  },
  {
   "cell_type": "markdown",
   "metadata": {},
   "source": [
    "위 코드를 실행하면, 2.5 + 3.5 = 6 이라는 결과가 출력된다. 이는 기대했던 결과이기도 하다."
   ]
  },
  {
   "cell_type": "markdown",
   "metadata": {},
   "source": [
    "# Theano용 wrapper인 Keras\n",
    "\n",
    "딥러닝에 익숙하지 않다면, Theano를 직접 사용할 필요는 없다. 실제로 Theano를 훨씬 쉽게 사용할 수 있게 해주는 유명한 Python 프로젝트를 사용하는 것이 좋다.\n",
    "\n",
    "Keras는 Theano를 완전히 감춰놓고, 딥러닝 모델을 작성하기 위해 활용할 수 있는 간단한 API를 제공하는 wrapper 라이브러리이다. 곧 소개하도록 하겠다."
   ]
  },
  {
   "cell_type": "markdown",
   "metadata": {},
   "source": [
    "# Theano를 더 알고 싶다면\n",
    "\n",
    "Theano에서 더 알고 싶다면 다음 resources를 참고하도록 하자.\n",
    "\n",
    "- Theano Official Homepage\n",
    "\n",
    "http://deeplearning.net/software/theano/\n",
    "\n",
    "- Theano GitHub Repository\n",
    "\n",
    "https://github.com/Theano/Theano/\n",
    "\n",
    "- Theano: A CPU and GPU Math Compiler in Python (2010)\n",
    "\n",
    "http://www.iro.umontreal.ca/~lisa/pointeurs/theano_scipy2010.pdf\n",
    "\n",
    "- List of Libraries Built on Theano\n",
    "\n",
    "https://github.com/Theano/Theano/wiki/Related-projects\n",
    "\n",
    "- List of Theano configuration options\n",
    "\n",
    "http://deeplearning.net/software/theano/library/config.html"
   ]
  }
 ],
 "metadata": {
  "anaconda-cloud": {},
  "kernelspec": {
   "display_name": "Python [Root]",
   "language": "python",
   "name": "Python [Root]"
  },
  "language_info": {
   "codemirror_mode": {
    "name": "ipython",
    "version": 3
   },
   "file_extension": ".py",
   "mimetype": "text/x-python",
   "name": "python",
   "nbconvert_exporter": "python",
   "pygments_lexer": "ipython3",
   "version": "3.5.2"
  }
 },
 "nbformat": 4,
 "nbformat_minor": 0
}
