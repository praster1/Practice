{
 "cells": [
  {
   "cell_type": "markdown",
   "metadata": {},
   "source": [
    "TensorFlow는 Google에서 만들고 발표 한 빠른 수치 계산을 위한 Python 라이브러리이다. TensorFlow 상에서 구축 된 프로세스를 단순화하는 래퍼 라이브러리를 사용하거나 직접 학습 모델을 만드는 데 사용할 수 있는 기초적인 라이브러리이다. 여기에서는 다음에 대해 이야기할 것이다.\n",
    "\n",
    "- Python에서의 TensorFlow 라이브러리 정보.\n",
    "- TensorFlow에서 간단한 symbolic expression을 정의, 컴파일 및 측정하는 방법."
   ]
  },
  {
   "cell_type": "markdown",
   "metadata": {},
   "source": [
    "# TensorFlow란 무엇인가?\n",
    "\n",
    "TensorFlow는 빠른 수치 계산을 위한 오픈소스 라이브러리이다. Tensorflow는 Google에 의해 유지 관리되고 있고, Apache 2.0 오픈소스 라이센스에 따라 배포된다. 기본적으로 C++ API에 대한 지원을 하고 있지만는 Python에서 명목상 많이 사용되고 있다. Theano 등 딥러닝에서 사용되는 다른 수치 라이브러리와 달리 TensorFlow는 Google search의 RankBrain과 DeepDream 프로젝트와 같이 연구 개발뿐만 아니라 프로덕션 시스템에서도 모두 활발하게 활용되고 있다. 단일 CPU 시스템, GPU는 물론 모바일 장치 및 수백 대의 대규모 분산 시스템 등 어디에서든지 활용할 수 있다."
   ]
  },
  {
   "cell_type": "markdown",
   "metadata": {},
   "source": [
    "# TensorFlow를 설치하는 방법\n",
    "\n",
    "Python SciPy 환경에서의 TensorFlow 설치는 무척 간단하다. TensorFlow는 Python 2.7 or 3.3 이상에서 작동한다. TensorFlow에는 다양한 환경에 맞게 배포되는 여러 배포본이 있으므로 TensorFlow를 설치하려면 TensorFlow 웹 사이트에서 다운로드 및 설치 지침을 따를 수 있다. 다음 링크를 확인하도록 하자.\n",
    "\n",
    "https://www.tensorflow.org/versions/r0.9/get_started/os_setup.html \n",
    "\n",
    "이외에도 Tensorflow는 워낙 많이 활용되고 있으면서, 기여도 그만큼 많은 라이브러리이므로, 관련 자료를 쉽게 찾을 수 있을 것이다."
   ]
  },
  {
   "cell_type": "markdown",
   "metadata": {},
   "source": [
    "# 간단한 TensorFlow 실습\n",
    "\n",
    "계산은 directed graph(방향성이 있는 그래프) 구조에서의 데이터 흐름과 연산의 관점에서 설명된다.\n",
    "\n",
    "- 노드(node) : 노드는 계산을 수행하고 0개 이상의 입력과 출력을 가진다. 노드 사이에서 이동하는 데이터를 실제 값의 다차원 배열인 텐서 (tensors)라고 부른다.\n",
    "\n",
    "- 엣지(edge) : 그래프는 데이터, 분기(branching), 반복 수행(looping) 및 상태에 대한 업데이트(update)의 흐름을 정의한다. 특별한 엣지를 사용하여 그래프 내에서의 동작을 동기화 할 수 있다. 예를 들어 여러 입력에 대한 계산이 완료 될 때까지 대기할 수 있다.\n",
    "\n",
    "- 연산(operation) : 연산은 입력 속성을 취하여, 출력 속성을 생산해낼 수 있는 추상 메서드이다.\n",
    "\n",
    "다음 코드는, 간단하게 Tensorflow를 맛볼 수 있는 스크립트이다.\n",
    "\n",
    "이 스크립트에서는 두 개의 symbolic floating-point scalar a와 b를 정의하였다. 이러한 변수를 이용하여 \"c = a + b\"라는 symbolic expression을 tf.add함수를 통해 정의하였다. 그런 다음 이 symbolic expression을 나중에 사용할 수 있도록, Tensorflow를 이용하여 컴파일한다.(세선에 올린다고 표현하기도 한다.) 마지막으로 컴파일 된 symbolic expression에 실제 값을 연결하고, 컴파일 된 Tensorflow 코드를 사용하여 계산을 수행한다."
   ]
  },
  {
   "cell_type": "code",
   "execution_count": 5,
   "metadata": {
    "collapsed": false
   },
   "outputs": [
    {
     "name": "stdout",
     "output_type": "stream",
     "text": [
      "6.0\n"
     ]
    }
   ],
   "source": [
    "# Tensorflow Library 실습\n",
    "import tensorflow as tf\n",
    "\n",
    "# 두 개의 symbolic floating-point scalars 선언\n",
    "a = tf.placeholder(tf.float32)\n",
    "b = tf.placeholder(tf.float32)\n",
    "\n",
    "# Symbolic expression 생성\n",
    "add = tf.add(a, b)\n",
    "\n",
    "# Symbolic expression 컴파일\n",
    "sess = tf.Session()\n",
    "\n",
    "# a = 2.5, b = 3.5를 대입하여 계산 수행\n",
    "binding = {a: 2.5, b: 3.5}\n",
    "c = sess.run(add, feed_dict=binding)\n",
    "\n",
    "print(c)"
   ]
  },
  {
   "cell_type": "markdown",
   "metadata": {},
   "source": [
    "위 코드를 실행하면, 2.5 + 3.5 = 6 이라는 결과가 출력된다. 이는 기대했던 결과이기도 하다.\n",
    "\n",
    "앞서 소개한 Theano에서의 실습과 같은 수행을 하므로, 비교해보는 것도 재미있을 것이다."
   ]
  }
 ],
 "metadata": {
  "anaconda-cloud": {},
  "kernelspec": {
   "display_name": "Python [Root]",
   "language": "python",
   "name": "Python [Root]"
  },
  "language_info": {
   "codemirror_mode": {
    "name": "ipython",
    "version": 3
   },
   "file_extension": ".py",
   "mimetype": "text/x-python",
   "name": "python",
   "nbconvert_exporter": "python",
   "pygments_lexer": "ipython3",
   "version": "3.5.2"
  }
 },
 "nbformat": 4,
 "nbformat_minor": 0
}
